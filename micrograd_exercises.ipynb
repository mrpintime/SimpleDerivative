{
  "nbformat": 4,
  "nbformat_minor": 0,
  "metadata": {
    "colab": {
      "provenance": []
    },
    "kernelspec": {
      "name": "python3",
      "display_name": "Python 3"
    },
    "language_info": {
      "name": "python"
    }
  },
  "cells": [
    {
      "cell_type": "markdown",
      "source": [
        "# micrograd exercises\n",
        "\n",
        "1. watch the [micrograd video](https://www.youtube.com/watch?v=VMj-3S1tku0) on YouTube\n",
        "2. come back and complete these exercises to level up :)"
      ],
      "metadata": {
        "id": "JnGHatCI51JP"
      }
    },
    {
      "cell_type": "markdown",
      "source": [
        "## section 1: derivatives"
      ],
      "metadata": {
        "id": "OFt6NKOz6iBZ"
      }
    },
    {
      "cell_type": "code",
      "source": [
        "# here is a mathematical expression that takes 3 inputs and produces one output\n",
        "from math import sin, cos\n",
        "\n",
        "def f(a, b, c):\n",
        "  return -a**3 + sin(3*b) - 1.0/c + b**2.5 - a**0.5\n",
        "\n",
        "print(f(2, 3, 4))"
      ],
      "metadata": {
        "id": "3Jx9fCXl5xHd",
        "colab": {
          "base_uri": "https://localhost:8080/"
        },
        "outputId": "7e3d5921-9a25-4534-d0e8-c87e16ab6437"
      },
      "execution_count": 1,
      "outputs": [
        {
          "output_type": "stream",
          "name": "stdout",
          "text": [
            "6.336362190988558\n"
          ]
        }
      ]
    },
    {
      "cell_type": "code",
      "source": [
        "# write the function df that returns the analytical gradient of f\n",
        "# i.e. use your skills from calculus to take the derivative, then implement the formula\n",
        "# if you do not calculus then feel free to ask wolframalpha, e.g.:\n",
        "# https://www.wolframalpha.com/input?i=d%2Fda%28sin%283*a%29%29%29\n",
        "\n",
        "def gradf(a, b, c):\n",
        "  df_da =   -3 * a**2 - 0.5 * a **-0.5\n",
        "  df_db = 3 * cos(3*b) + 2.5 * b ** 1.5\n",
        "  df_dc = c ** -2\n",
        "  return [df_da, df_db, df_dc] # todo, return [df/da, df/db, df/dc]\n",
        "\n",
        "# expected answer is the list of\n",
        "ans = [-12.353553390593273, 10.25699027111255, 0.0625]\n",
        "yours = gradf(2, 3, 4)\n",
        "for dim in range(3):\n",
        "  ok = 'OK' if abs(yours[dim] - ans[dim]) < 1e-5 else 'WRONG!'\n",
        "  print(f\"{ok} for dim {dim}: expected {ans[dim]}, yours returns {yours[dim]}\")\n"
      ],
      "metadata": {
        "id": "qXaH59eL9zxf",
        "colab": {
          "base_uri": "https://localhost:8080/"
        },
        "outputId": "1b31e13c-6e75-4325-f59c-159b5c58e341"
      },
      "execution_count": 2,
      "outputs": [
        {
          "output_type": "stream",
          "name": "stdout",
          "text": [
            "OK for dim 0: expected -12.353553390593273, yours returns -12.353553390593273\n",
            "OK for dim 1: expected 10.25699027111255, yours returns 10.25699027111255\n",
            "OK for dim 2: expected 0.0625, yours returns 0.0625\n"
          ]
        }
      ]
    },
    {
      "cell_type": "code",
      "source": [
        "# now estimate the gradient numerically without any calculus, using\n",
        "# the approximation we used in the video.\n",
        "# you should not call the function df from the last cell\n",
        "\n",
        "# -----------\n",
        "h = 0.000001\n",
        "a = 2\n",
        "b = 3\n",
        "c = 4\n",
        "\n",
        "df_da = ( f(a + h, b, c) - f(a, b, c) ) / h\n",
        "df_db = ( f(a, b + h, c) - f(a, b, c) ) / h\n",
        "df_dc = ( f(a, b, c + h) - f(a, b, c) ) / h\n",
        "\n",
        "numerical_grad = [df_da, df_db, df_dc] # TODO\n",
        "# -----------\n",
        "\n",
        "for dim in range(3):\n",
        "  ok = 'OK' if abs(numerical_grad[dim] - ans[dim]) < 1e-5 else 'WRONG!'\n",
        "  print(f\"{ok} for dim {dim}: expected {ans[dim]}, yours returns {numerical_grad[dim]}\")\n"
      ],
      "metadata": {
        "id": "_27n-KTA9Qla",
        "colab": {
          "base_uri": "https://localhost:8080/"
        },
        "outputId": "23e3c8cd-3034-49e6-b877-d509ff8f30e8"
      },
      "execution_count": 3,
      "outputs": [
        {
          "output_type": "stream",
          "name": "stdout",
          "text": [
            "OK for dim 0: expected -12.353553390593273, yours returns -12.353559348809995\n",
            "OK for dim 1: expected 10.25699027111255, yours returns 10.256991666679482\n",
            "OK for dim 2: expected 0.0625, yours returns 0.062499984743169534\n"
          ]
        }
      ]
    },
    {
      "cell_type": "code",
      "source": [
        "# there is an alternative formula that provides a much better numerical\n",
        "# approximation to the derivative of a function.\n",
        "# learn about it here: https://en.wikipedia.org/wiki/Symmetric_derivative\n",
        "# implement it. confirm that for the same step size h this version gives a\n",
        "# better approximation.\n",
        "\n",
        "# -----------\n",
        "h = 0.000001\n",
        "a = 2\n",
        "b = 3\n",
        "c = 4\n",
        "\n",
        "df_da = ( f(a + h, b, c) - f(a - h, b, c) ) / (2*h)\n",
        "df_db = ( f(a, b + h, c) - f(a, b-h, c) ) / (2*h)\n",
        "df_dc = ( f(a, b, c + h) - f(a, b, c-h) ) / (2*h)\n",
        "\n",
        "numerical_grad2 = [df_da, df_db, df_dc] # TODO\n",
        "# -----------\n",
        "\n",
        "for dim in range(3):\n",
        "  ok = 'OK' if abs(numerical_grad2[dim] - ans[dim]) < 1e-5 else 'WRONG!'\n",
        "  print(f\"{ok} for dim {dim}: expected {ans[dim]}, yours returns {numerical_grad2[dim]}\")\n"
      ],
      "metadata": {
        "id": "BUqsGb5o_h2P",
        "colab": {
          "base_uri": "https://localhost:8080/"
        },
        "outputId": "0bae37be-b18d-4767-8918-33fca6e18160"
      },
      "execution_count": 4,
      "outputs": [
        {
          "output_type": "stream",
          "name": "stdout",
          "text": [
            "OK for dim 0: expected -12.353553390593273, yours returns -12.353553391353245\n",
            "OK for dim 1: expected 10.25699027111255, yours returns 10.25699027401572\n",
            "OK for dim 2: expected 0.0625, yours returns 0.06250000028629188\n"
          ]
        }
      ]
    },
    {
      "cell_type": "code",
      "source": [
        "from graphviz import Digraph\n",
        "\n",
        "def trace(root):\n",
        "  # builds a set of all nodes and edges in a graph\n",
        "  nodes, edges = set(), set()\n",
        "  def build(v):\n",
        "    if v not in nodes:\n",
        "      nodes.add(v)\n",
        "      for child in v._prev:\n",
        "        edges.add((child, v))\n",
        "        build(child)\n",
        "  build(root)\n",
        "  return nodes, edges\n",
        "\n",
        "def draw_dot(root):\n",
        "  dot = Digraph(format='svg', graph_attr={'rankdir': 'LR'}) # LR = left to right\n",
        "\n",
        "  nodes, edges = trace(root)\n",
        "  for n in nodes:\n",
        "    uid = str(id(n))\n",
        "    # for any value in the graph, create a rectangular ('record') node for it\n",
        "    dot.node(name = uid, label = \"{ %s | data %.4f | grad %.4f }\" % (n.label, n.data, n.grad), shape='record')\n",
        "    if n._op:\n",
        "      # if this value is a result of some operation, create an op node for it\n",
        "      dot.node(name = uid + n._op, label = n._op)\n",
        "      # and connect this node to it\n",
        "      dot.edge(uid + n._op, uid)\n",
        "\n",
        "  for n1, n2 in edges:\n",
        "    # connect n1 to the op node of n2\n",
        "    dot.edge(str(id(n1)), str(id(n2)) + n2._op)\n",
        "\n",
        "  return dot\n",
        "\n"
      ],
      "metadata": {
        "id": "saqoF3YB-F2H"
      },
      "execution_count": 5,
      "outputs": []
    },
    {
      "cell_type": "markdown",
      "source": [
        "## section 2: support for softmax"
      ],
      "metadata": {
        "id": "tklF9s_4AtlI"
      }
    },
    {
      "cell_type": "code",
      "source": [
        "# Value class starter code, with many functions taken out\n",
        "from math import exp, log\n",
        "\n",
        "class Value:\n",
        "\n",
        "  def __init__(self, data, _children=(), _op='', label=''):\n",
        "    self.data = data\n",
        "    self.grad = 0.0\n",
        "    self._backward = lambda: None\n",
        "    self._prev = set(_children)\n",
        "    self._op = _op\n",
        "    self.label = label\n",
        "\n",
        "  def __repr__(self):\n",
        "    return f\"Value(data={self.data})\"\n",
        "\n",
        "  def __add__(self, other): # exactly as in the video\n",
        "    other = other if isinstance(other, Value) else Value(other)\n",
        "    out = Value(self.data + other.data, (self, other), '+')\n",
        "\n",
        "    def _backward():\n",
        "      self.grad += 1.0 * out.grad\n",
        "      other.grad += 1.0 * out.grad\n",
        "    out._backward = _backward\n",
        "\n",
        "    return out\n",
        "\n",
        "\n",
        "  def __truediv__(self, other):\n",
        "    other = other if isinstance(other, Value) else Value(other)\n",
        "    out = Value(self.data / other.data, (self, other), '/')\n",
        "\n",
        "    def _backward():\n",
        "        self.grad += (1.0 / other.data) * out.grad\n",
        "        other.grad += (-self.data / (other.data ** 2)) * out.grad\n",
        "    out._backward = _backward\n",
        "\n",
        "    return out\n",
        "\n",
        "  def __neg__(self):\n",
        "    out = Value(-self.data, (self,), '-')\n",
        "\n",
        "    def _backward():\n",
        "        self.grad += -1.0 * out.grad\n",
        "    out._backward = _backward\n",
        "\n",
        "    return out\n",
        "\n",
        "  def exp(self):\n",
        "    out_num = exp(self.data)\n",
        "    out = Value(out_num, _children=(self, ), _op='exp')\n",
        "\n",
        "    def _backward():\n",
        "      self.grad += out_num * out.grad\n",
        "    out._backward = _backward\n",
        "\n",
        "    return out\n",
        "\n",
        "\n",
        "  def log(self):\n",
        "    out_num = log(self.data)\n",
        "    out = Value(out_num, _children=(self, ), _op='log')\n",
        "\n",
        "    def _backward():\n",
        "      self.grad += (1 / self.data) * out.grad\n",
        "    out._backward = _backward\n",
        "\n",
        "    return out\n",
        "\n",
        "  def backward(self): # exactly as in video\n",
        "    topo = []\n",
        "    visited = set()\n",
        "    def build_topo(v):\n",
        "      if v not in visited:\n",
        "        visited.add(v)\n",
        "        for child in v._prev:\n",
        "          build_topo(child)\n",
        "        topo.append(v)\n",
        "    build_topo(self)\n",
        "\n",
        "    self.grad = 1.0\n",
        "    for node in reversed(topo):\n",
        "      node._backward()"
      ],
      "metadata": {
        "id": "nAPe_RVrCTeO"
      },
      "execution_count": 6,
      "outputs": []
    },
    {
      "cell_type": "code",
      "source": [
        "# without referencing our code/video __too__ much, make this cell work\n",
        "# you'll have to implement (in some cases re-implemented) a number of functions\n",
        "# of the Value object, similar to what we've seen in the video.\n",
        "# instead of the squared error loss this implements the negative log likelihood\n",
        "# loss, which is very often used in classification.\n",
        "\n",
        "# this is the softmax function\n",
        "# https://en.wikipedia.org/wiki/Softmax_function\n",
        "def softmax(logits):\n",
        "  counts = [logit.exp() for logit in logits]\n",
        "  # We have to define how the sum function should handle the addition of Value objects.\n",
        "  # if not we got The error which occurs because the sum function starts with an initial value of 0 (an integer), and it tries to add this integer to a Value instance, which is not supported.\n",
        "  denominator = sum(counts, Value(0.0))\n",
        "  out = [c / denominator for c in counts]\n",
        "  return out\n",
        "\n",
        "# this is the negative log likelihood loss function, pervasive in classification\n",
        "logits = [Value(0.0), Value(3.0), Value(-2.0), Value(1.0)]\n",
        "probs = softmax(logits)\n",
        "loss = -probs[3].log() # dim 3 acts as the label for this input example\n",
        "\n",
        "loss.grad = 1.0\n",
        "\n",
        "loss.backward()\n",
        "print(loss.data)\n",
        "\n",
        "ans = [0.041772570515350445, 0.8390245074625319, 0.005653302662216329, -0.8864503806400986]\n",
        "for dim in range(4):\n",
        "  ok = 'OK' if abs(logits[dim].grad - ans[dim]) < 1e-5 else 'WRONG!'\n",
        "  print(f\"{ok} for dim {dim}: expected {ans[dim]}, yours returns {logits[dim].grad}\")\n"
      ],
      "metadata": {
        "id": "VgWvwVQNAvnI",
        "colab": {
          "base_uri": "https://localhost:8080/"
        },
        "outputId": "549a1f5a-4f10-4bfb-c2c3-1d225f5d3c7f"
      },
      "execution_count": 7,
      "outputs": [
        {
          "output_type": "stream",
          "name": "stdout",
          "text": [
            "2.1755153626167147\n",
            "OK for dim 0: expected 0.041772570515350445, yours returns 0.041772570515350445\n",
            "OK for dim 1: expected 0.8390245074625319, yours returns 0.8390245074625319\n",
            "OK for dim 2: expected 0.005653302662216329, yours returns 0.005653302662216329\n",
            "OK for dim 3: expected -0.8864503806400986, yours returns -0.886450380640099\n"
          ]
        }
      ]
    },
    {
      "cell_type": "code",
      "source": [
        "draw_dot(loss) # we plot this to see what is going on here"
      ],
      "metadata": {
        "colab": {
          "base_uri": "https://localhost:8080/",
          "height": 321
        },
        "id": "7O3-k3bquqki",
        "outputId": "d293c25e-73a2-491f-c1b5-12df8fb0d6b7"
      },
      "execution_count": 8,
      "outputs": [
        {
          "output_type": "execute_result",
          "data": {
            "image/svg+xml": "<?xml version=\"1.0\" encoding=\"UTF-8\" standalone=\"no\"?>\n<!DOCTYPE svg PUBLIC \"-//W3C//DTD SVG 1.1//EN\"\n \"http://www.w3.org/Graphics/SVG/1.1/DTD/svg11.dtd\">\n<!-- Generated by graphviz version 2.43.0 (0)\n -->\n<!-- Title: %3 Pages: 1 -->\n<svg width=\"2695pt\" height=\"210pt\"\n viewBox=\"0.00 0.00 2695.00 210.00\" xmlns=\"http://www.w3.org/2000/svg\" xmlns:xlink=\"http://www.w3.org/1999/xlink\">\n<g id=\"graph0\" class=\"graph\" transform=\"scale(1 1) rotate(0) translate(4 206)\">\n<title>%3</title>\n<polygon fill=\"white\" stroke=\"transparent\" points=\"-4,4 -4,-206 2691,-206 2691,4 -4,4\"/>\n<!-- 139636306045456 -->\n<g id=\"node1\" class=\"node\">\n<title>139636306045456</title>\n<polygon fill=\"none\" stroke=\"black\" points=\"2188,-86.5 2188,-122.5 2379,-122.5 2379,-86.5 2188,-86.5\"/>\n<text text-anchor=\"middle\" x=\"2198\" y=\"-100.8\" font-family=\"Times,serif\" font-size=\"14.00\"> </text>\n<polyline fill=\"none\" stroke=\"black\" points=\"2208,-86.5 2208,-122.5 \"/>\n<text text-anchor=\"middle\" x=\"2250.5\" y=\"-100.8\" font-family=\"Times,serif\" font-size=\"14.00\">data &#45;2.1755</text>\n<polyline fill=\"none\" stroke=\"black\" points=\"2293,-86.5 2293,-122.5 \"/>\n<text text-anchor=\"middle\" x=\"2336\" y=\"-100.8\" font-family=\"Times,serif\" font-size=\"14.00\">grad &#45;1.0000</text>\n</g>\n<!-- 139636306042672&#45; -->\n<g id=\"node14\" class=\"node\">\n<title>139636306042672&#45;</title>\n<ellipse fill=\"none\" stroke=\"black\" cx=\"2442\" cy=\"-104.5\" rx=\"27\" ry=\"18\"/>\n<text text-anchor=\"middle\" x=\"2442\" y=\"-100.8\" font-family=\"Times,serif\" font-size=\"14.00\">&#45;</text>\n</g>\n<!-- 139636306045456&#45;&gt;139636306042672&#45; -->\n<g id=\"edge26\" class=\"edge\">\n<title>139636306045456&#45;&gt;139636306042672&#45;</title>\n<path fill=\"none\" stroke=\"black\" d=\"M2379.15,-104.5C2388.09,-104.5 2396.73,-104.5 2404.57,-104.5\"/>\n<polygon fill=\"black\" stroke=\"black\" points=\"2404.73,-108 2414.73,-104.5 2404.73,-101 2404.73,-108\"/>\n</g>\n<!-- 139636306045456log -->\n<g id=\"node2\" class=\"node\">\n<title>139636306045456log</title>\n<ellipse fill=\"none\" stroke=\"black\" cx=\"2125\" cy=\"-104.5\" rx=\"27\" ry=\"18\"/>\n<text text-anchor=\"middle\" x=\"2125\" y=\"-100.8\" font-family=\"Times,serif\" font-size=\"14.00\">log</text>\n</g>\n<!-- 139636306045456log&#45;&gt;139636306045456 -->\n<g id=\"edge1\" class=\"edge\">\n<title>139636306045456log&#45;&gt;139636306045456</title>\n<path fill=\"none\" stroke=\"black\" d=\"M2152.19,-104.5C2159.67,-104.5 2168.31,-104.5 2177.51,-104.5\"/>\n<polygon fill=\"black\" stroke=\"black\" points=\"2177.68,-108 2187.68,-104.5 2177.68,-101 2177.68,-108\"/>\n</g>\n<!-- 139636306044496 -->\n<g id=\"node3\" class=\"node\">\n<title>139636306044496</title>\n<polygon fill=\"none\" stroke=\"black\" points=\"0,-165.5 0,-201.5 182,-201.5 182,-165.5 0,-165.5\"/>\n<text text-anchor=\"middle\" x=\"10\" y=\"-179.8\" font-family=\"Times,serif\" font-size=\"14.00\"> </text>\n<polyline fill=\"none\" stroke=\"black\" points=\"20,-165.5 20,-201.5 \"/>\n<text text-anchor=\"middle\" x=\"60\" y=\"-179.8\" font-family=\"Times,serif\" font-size=\"14.00\">data 0.0000</text>\n<polyline fill=\"none\" stroke=\"black\" points=\"100,-165.5 100,-201.5 \"/>\n<text text-anchor=\"middle\" x=\"141\" y=\"-179.8\" font-family=\"Times,serif\" font-size=\"14.00\">grad 0.0418</text>\n</g>\n<!-- 139636306039408exp -->\n<g id=\"node5\" class=\"node\">\n<title>139636306039408exp</title>\n<ellipse fill=\"none\" stroke=\"black\" cx=\"245\" cy=\"-183.5\" rx=\"27\" ry=\"18\"/>\n<text text-anchor=\"middle\" x=\"245\" y=\"-179.8\" font-family=\"Times,serif\" font-size=\"14.00\">exp</text>\n</g>\n<!-- 139636306044496&#45;&gt;139636306039408exp -->\n<g id=\"edge18\" class=\"edge\">\n<title>139636306044496&#45;&gt;139636306039408exp</title>\n<path fill=\"none\" stroke=\"black\" d=\"M182.18,-183.5C191.14,-183.5 199.83,-183.5 207.73,-183.5\"/>\n<polygon fill=\"black\" stroke=\"black\" points=\"207.96,-187 217.96,-183.5 207.96,-180 207.96,-187\"/>\n</g>\n<!-- 139636306039408 -->\n<g id=\"node4\" class=\"node\">\n<title>139636306039408</title>\n<polygon fill=\"none\" stroke=\"black\" points=\"308,-165.5 308,-201.5 490,-201.5 490,-165.5 308,-165.5\"/>\n<text text-anchor=\"middle\" x=\"318\" y=\"-179.8\" font-family=\"Times,serif\" font-size=\"14.00\"> </text>\n<polyline fill=\"none\" stroke=\"black\" points=\"328,-165.5 328,-201.5 \"/>\n<text text-anchor=\"middle\" x=\"368\" y=\"-179.8\" font-family=\"Times,serif\" font-size=\"14.00\">data 1.0000</text>\n<polyline fill=\"none\" stroke=\"black\" points=\"408,-165.5 408,-201.5 \"/>\n<text text-anchor=\"middle\" x=\"449\" y=\"-179.8\" font-family=\"Times,serif\" font-size=\"14.00\">grad 0.0418</text>\n</g>\n<!-- 139636306043344+ -->\n<g id=\"node23\" class=\"node\">\n<title>139636306043344+</title>\n<ellipse fill=\"none\" stroke=\"black\" cx=\"553\" cy=\"-128.5\" rx=\"27\" ry=\"18\"/>\n<text text-anchor=\"middle\" x=\"553\" y=\"-124.8\" font-family=\"Times,serif\" font-size=\"14.00\">+</text>\n</g>\n<!-- 139636306039408&#45;&gt;139636306043344+ -->\n<g id=\"edge22\" class=\"edge\">\n<title>139636306039408&#45;&gt;139636306043344+</title>\n<path fill=\"none\" stroke=\"black\" d=\"M464.26,-165.36C472.97,-162.57 481.75,-159.59 490,-156.5 500.48,-152.58 511.69,-147.73 521.66,-143.17\"/>\n<polygon fill=\"black\" stroke=\"black\" points=\"523.18,-146.32 530.77,-138.93 520.23,-139.98 523.18,-146.32\"/>\n</g>\n<!-- 139636306039408exp&#45;&gt;139636306039408 -->\n<g id=\"edge2\" class=\"edge\">\n<title>139636306039408exp&#45;&gt;139636306039408</title>\n<path fill=\"none\" stroke=\"black\" d=\"M272.13,-183.5C279.67,-183.5 288.39,-183.5 297.64,-183.5\"/>\n<polygon fill=\"black\" stroke=\"black\" points=\"297.87,-187 307.87,-183.5 297.87,-180 297.87,-187\"/>\n</g>\n<!-- 139636306045120 -->\n<g id=\"node6\" class=\"node\">\n<title>139636306045120</title>\n<polygon fill=\"none\" stroke=\"black\" points=\"1561,-63.5 1561,-99.5 1750,-99.5 1750,-63.5 1561,-63.5\"/>\n<text text-anchor=\"middle\" x=\"1571\" y=\"-77.8\" font-family=\"Times,serif\" font-size=\"14.00\"> </text>\n<polyline fill=\"none\" stroke=\"black\" points=\"1581,-63.5 1581,-99.5 \"/>\n<text text-anchor=\"middle\" x=\"1624.5\" y=\"-77.8\" font-family=\"Times,serif\" font-size=\"14.00\">data 23.9392</text>\n<polyline fill=\"none\" stroke=\"black\" points=\"1668,-63.5 1668,-99.5 \"/>\n<text text-anchor=\"middle\" x=\"1709\" y=\"-77.8\" font-family=\"Times,serif\" font-size=\"14.00\">grad 0.0418</text>\n</g>\n<!-- 139636306042720/ -->\n<g id=\"node19\" class=\"node\">\n<title>139636306042720/</title>\n<ellipse fill=\"none\" stroke=\"black\" cx=\"1813\" cy=\"-104.5\" rx=\"27\" ry=\"18\"/>\n<text text-anchor=\"middle\" x=\"1813\" y=\"-100.8\" font-family=\"Times,serif\" font-size=\"14.00\">/</text>\n</g>\n<!-- 139636306045120&#45;&gt;139636306042720/ -->\n<g id=\"edge13\" class=\"edge\">\n<title>139636306045120&#45;&gt;139636306042720/</title>\n<path fill=\"none\" stroke=\"black\" d=\"M1750.1,-95.34C1759.4,-96.72 1768.38,-98.05 1776.49,-99.25\"/>\n<polygon fill=\"black\" stroke=\"black\" points=\"1776.19,-102.74 1786.59,-100.74 1777.21,-95.82 1776.19,-102.74\"/>\n</g>\n<!-- 139636306045120+ -->\n<g id=\"node7\" class=\"node\">\n<title>139636306045120+</title>\n<ellipse fill=\"none\" stroke=\"black\" cx=\"1498\" cy=\"-81.5\" rx=\"27\" ry=\"18\"/>\n<text text-anchor=\"middle\" x=\"1498\" y=\"-77.8\" font-family=\"Times,serif\" font-size=\"14.00\">+</text>\n</g>\n<!-- 139636306045120+&#45;&gt;139636306045120 -->\n<g id=\"edge3\" class=\"edge\">\n<title>139636306045120+&#45;&gt;139636306045120</title>\n<path fill=\"none\" stroke=\"black\" d=\"M1525.03,-81.5C1532.66,-81.5 1541.52,-81.5 1550.94,-81.5\"/>\n<polygon fill=\"black\" stroke=\"black\" points=\"1550.94,-85 1560.94,-81.5 1550.94,-78 1550.94,-85\"/>\n</g>\n<!-- 139636306049728 -->\n<g id=\"node8\" class=\"node\">\n<title>139636306049728</title>\n<polygon fill=\"none\" stroke=\"black\" points=\"932.5,-110.5 932.5,-146.5 1118.5,-146.5 1118.5,-110.5 932.5,-110.5\"/>\n<text text-anchor=\"middle\" x=\"942.5\" y=\"-124.8\" font-family=\"Times,serif\" font-size=\"14.00\"> </text>\n<polyline fill=\"none\" stroke=\"black\" points=\"952.5,-110.5 952.5,-146.5 \"/>\n<text text-anchor=\"middle\" x=\"992.5\" y=\"-124.8\" font-family=\"Times,serif\" font-size=\"14.00\">data 1.0000</text>\n<polyline fill=\"none\" stroke=\"black\" points=\"1032.5,-110.5 1032.5,-146.5 \"/>\n<text text-anchor=\"middle\" x=\"1075.5\" y=\"-124.8\" font-family=\"Times,serif\" font-size=\"14.00\">grad &#45;0.8865</text>\n</g>\n<!-- 139636306043728exp -->\n<g id=\"node17\" class=\"node\">\n<title>139636306043728exp</title>\n<ellipse fill=\"none\" stroke=\"black\" cx=\"1183\" cy=\"-128.5\" rx=\"27\" ry=\"18\"/>\n<text text-anchor=\"middle\" x=\"1183\" y=\"-124.8\" font-family=\"Times,serif\" font-size=\"14.00\">exp</text>\n</g>\n<!-- 139636306049728&#45;&gt;139636306043728exp -->\n<g id=\"edge15\" class=\"edge\">\n<title>139636306049728&#45;&gt;139636306043728exp</title>\n<path fill=\"none\" stroke=\"black\" d=\"M1118.75,-128.5C1128.32,-128.5 1137.58,-128.5 1145.93,-128.5\"/>\n<polygon fill=\"black\" stroke=\"black\" points=\"1145.97,-132 1155.97,-128.5 1145.97,-125 1145.97,-132\"/>\n</g>\n<!-- 139636306044112 -->\n<g id=\"node9\" class=\"node\">\n<title>139636306044112</title>\n<polygon fill=\"none\" stroke=\"black\" points=\"931,-55.5 931,-91.5 1120,-91.5 1120,-55.5 931,-55.5\"/>\n<text text-anchor=\"middle\" x=\"941\" y=\"-69.8\" font-family=\"Times,serif\" font-size=\"14.00\"> </text>\n<polyline fill=\"none\" stroke=\"black\" points=\"951,-55.5 951,-91.5 \"/>\n<text text-anchor=\"middle\" x=\"994.5\" y=\"-69.8\" font-family=\"Times,serif\" font-size=\"14.00\">data 21.0855</text>\n<polyline fill=\"none\" stroke=\"black\" points=\"1038,-55.5 1038,-91.5 \"/>\n<text text-anchor=\"middle\" x=\"1079\" y=\"-69.8\" font-family=\"Times,serif\" font-size=\"14.00\">grad 0.0418</text>\n</g>\n<!-- 139636306044256+ -->\n<g id=\"node21\" class=\"node\">\n<title>139636306044256+</title>\n<ellipse fill=\"none\" stroke=\"black\" cx=\"1183\" cy=\"-73.5\" rx=\"27\" ry=\"18\"/>\n<text text-anchor=\"middle\" x=\"1183\" y=\"-69.8\" font-family=\"Times,serif\" font-size=\"14.00\">+</text>\n</g>\n<!-- 139636306044112&#45;&gt;139636306044256+ -->\n<g id=\"edge25\" class=\"edge\">\n<title>139636306044112&#45;&gt;139636306044256+</title>\n<path fill=\"none\" stroke=\"black\" d=\"M1120.1,-73.5C1129.12,-73.5 1137.84,-73.5 1145.75,-73.5\"/>\n<polygon fill=\"black\" stroke=\"black\" points=\"1145.99,-77 1155.99,-73.5 1145.99,-70 1145.99,-77\"/>\n</g>\n<!-- 139636306044112+ -->\n<g id=\"node10\" class=\"node\">\n<title>139636306044112+</title>\n<ellipse fill=\"none\" stroke=\"black\" cx=\"868\" cy=\"-73.5\" rx=\"27\" ry=\"18\"/>\n<text text-anchor=\"middle\" x=\"868\" y=\"-69.8\" font-family=\"Times,serif\" font-size=\"14.00\">+</text>\n</g>\n<!-- 139636306044112+&#45;&gt;139636306044112 -->\n<g id=\"edge4\" class=\"edge\">\n<title>139636306044112+&#45;&gt;139636306044112</title>\n<path fill=\"none\" stroke=\"black\" d=\"M895.03,-73.5C902.66,-73.5 911.52,-73.5 920.94,-73.5\"/>\n<polygon fill=\"black\" stroke=\"black\" points=\"920.94,-77 930.94,-73.5 920.94,-70 920.94,-77\"/>\n</g>\n<!-- 139636306049776 -->\n<g id=\"node11\" class=\"node\">\n<title>139636306049776</title>\n<polygon fill=\"none\" stroke=\"black\" points=\"308,-55.5 308,-91.5 490,-91.5 490,-55.5 308,-55.5\"/>\n<text text-anchor=\"middle\" x=\"318\" y=\"-69.8\" font-family=\"Times,serif\" font-size=\"14.00\"> </text>\n<polyline fill=\"none\" stroke=\"black\" points=\"328,-55.5 328,-91.5 \"/>\n<text text-anchor=\"middle\" x=\"368\" y=\"-69.8\" font-family=\"Times,serif\" font-size=\"14.00\">data 3.0000</text>\n<polyline fill=\"none\" stroke=\"black\" points=\"408,-55.5 408,-91.5 \"/>\n<text text-anchor=\"middle\" x=\"449\" y=\"-69.8\" font-family=\"Times,serif\" font-size=\"14.00\">grad 0.8390</text>\n</g>\n<!-- 139636306039264exp -->\n<g id=\"node25\" class=\"node\">\n<title>139636306039264exp</title>\n<ellipse fill=\"none\" stroke=\"black\" cx=\"553\" cy=\"-73.5\" rx=\"27\" ry=\"18\"/>\n<text text-anchor=\"middle\" x=\"553\" y=\"-69.8\" font-family=\"Times,serif\" font-size=\"14.00\">exp</text>\n</g>\n<!-- 139636306049776&#45;&gt;139636306039264exp -->\n<g id=\"edge24\" class=\"edge\">\n<title>139636306049776&#45;&gt;139636306039264exp</title>\n<path fill=\"none\" stroke=\"black\" d=\"M490.18,-73.5C499.14,-73.5 507.83,-73.5 515.73,-73.5\"/>\n<polygon fill=\"black\" stroke=\"black\" points=\"515.96,-77 525.96,-73.5 515.96,-70 515.96,-77\"/>\n</g>\n<!-- 139636306045696 -->\n<g id=\"node12\" class=\"node\">\n<title>139636306045696</title>\n<polygon fill=\"none\" stroke=\"black\" points=\"308,-110.5 308,-146.5 490,-146.5 490,-110.5 308,-110.5\"/>\n<text text-anchor=\"middle\" x=\"318\" y=\"-124.8\" font-family=\"Times,serif\" font-size=\"14.00\"> </text>\n<polyline fill=\"none\" stroke=\"black\" points=\"328,-110.5 328,-146.5 \"/>\n<text text-anchor=\"middle\" x=\"368\" y=\"-124.8\" font-family=\"Times,serif\" font-size=\"14.00\">data 0.0000</text>\n<polyline fill=\"none\" stroke=\"black\" points=\"408,-110.5 408,-146.5 \"/>\n<text text-anchor=\"middle\" x=\"449\" y=\"-124.8\" font-family=\"Times,serif\" font-size=\"14.00\">grad 0.0418</text>\n</g>\n<!-- 139636306045696&#45;&gt;139636306043344+ -->\n<g id=\"edge21\" class=\"edge\">\n<title>139636306045696&#45;&gt;139636306043344+</title>\n<path fill=\"none\" stroke=\"black\" d=\"M490.18,-128.5C499.14,-128.5 507.83,-128.5 515.73,-128.5\"/>\n<polygon fill=\"black\" stroke=\"black\" points=\"515.96,-132 525.96,-128.5 515.96,-125 515.96,-132\"/>\n</g>\n<!-- 139636306042672 -->\n<g id=\"node13\" class=\"node\">\n<title>139636306042672</title>\n<polygon fill=\"none\" stroke=\"black\" points=\"2505,-86.5 2505,-122.5 2687,-122.5 2687,-86.5 2505,-86.5\"/>\n<text text-anchor=\"middle\" x=\"2515\" y=\"-100.8\" font-family=\"Times,serif\" font-size=\"14.00\"> </text>\n<polyline fill=\"none\" stroke=\"black\" points=\"2525,-86.5 2525,-122.5 \"/>\n<text text-anchor=\"middle\" x=\"2565\" y=\"-100.8\" font-family=\"Times,serif\" font-size=\"14.00\">data 2.1755</text>\n<polyline fill=\"none\" stroke=\"black\" points=\"2605,-86.5 2605,-122.5 \"/>\n<text text-anchor=\"middle\" x=\"2646\" y=\"-100.8\" font-family=\"Times,serif\" font-size=\"14.00\">grad 1.0000</text>\n</g>\n<!-- 139636306042672&#45;&#45;&gt;139636306042672 -->\n<g id=\"edge5\" class=\"edge\">\n<title>139636306042672&#45;&#45;&gt;139636306042672</title>\n<path fill=\"none\" stroke=\"black\" d=\"M2469.13,-104.5C2476.67,-104.5 2485.39,-104.5 2494.64,-104.5\"/>\n<polygon fill=\"black\" stroke=\"black\" points=\"2494.87,-108 2504.87,-104.5 2494.87,-101 2494.87,-108\"/>\n</g>\n<!-- 139636306045744 -->\n<g id=\"node15\" class=\"node\">\n<title>139636306045744</title>\n<polygon fill=\"none\" stroke=\"black\" points=\"617,-0.5 617,-36.5 804,-36.5 804,-0.5 617,-0.5\"/>\n<text text-anchor=\"middle\" x=\"627\" y=\"-14.8\" font-family=\"Times,serif\" font-size=\"14.00\"> </text>\n<polyline fill=\"none\" stroke=\"black\" points=\"637,-0.5 637,-36.5 \"/>\n<text text-anchor=\"middle\" x=\"679.5\" y=\"-14.8\" font-family=\"Times,serif\" font-size=\"14.00\">data &#45;2.0000</text>\n<polyline fill=\"none\" stroke=\"black\" points=\"722,-0.5 722,-36.5 \"/>\n<text text-anchor=\"middle\" x=\"763\" y=\"-14.8\" font-family=\"Times,serif\" font-size=\"14.00\">grad 0.0057</text>\n</g>\n<!-- 139636306039792exp -->\n<g id=\"node27\" class=\"node\">\n<title>139636306039792exp</title>\n<ellipse fill=\"none\" stroke=\"black\" cx=\"868\" cy=\"-18.5\" rx=\"27\" ry=\"18\"/>\n<text text-anchor=\"middle\" x=\"868\" y=\"-14.8\" font-family=\"Times,serif\" font-size=\"14.00\">exp</text>\n</g>\n<!-- 139636306045744&#45;&gt;139636306039792exp -->\n<g id=\"edge12\" class=\"edge\">\n<title>139636306045744&#45;&gt;139636306039792exp</title>\n<path fill=\"none\" stroke=\"black\" d=\"M804.2,-18.5C813.52,-18.5 822.54,-18.5 830.69,-18.5\"/>\n<polygon fill=\"black\" stroke=\"black\" points=\"830.88,-22 840.88,-18.5 830.88,-15 830.88,-22\"/>\n</g>\n<!-- 139636306043728 -->\n<g id=\"node16\" class=\"node\">\n<title>139636306043728</title>\n<polygon fill=\"none\" stroke=\"black\" points=\"1247.5,-110.5 1247.5,-146.5 1433.5,-146.5 1433.5,-110.5 1247.5,-110.5\"/>\n<text text-anchor=\"middle\" x=\"1257.5\" y=\"-124.8\" font-family=\"Times,serif\" font-size=\"14.00\"> </text>\n<polyline fill=\"none\" stroke=\"black\" points=\"1267.5,-110.5 1267.5,-146.5 \"/>\n<text text-anchor=\"middle\" x=\"1307.5\" y=\"-124.8\" font-family=\"Times,serif\" font-size=\"14.00\">data 2.7183</text>\n<polyline fill=\"none\" stroke=\"black\" points=\"1347.5,-110.5 1347.5,-146.5 \"/>\n<text text-anchor=\"middle\" x=\"1390.5\" y=\"-124.8\" font-family=\"Times,serif\" font-size=\"14.00\">grad &#45;0.3261</text>\n</g>\n<!-- 139636306043728&#45;&gt;139636306045120+ -->\n<g id=\"edge19\" class=\"edge\">\n<title>139636306043728&#45;&gt;139636306045120+</title>\n<path fill=\"none\" stroke=\"black\" d=\"M1404.95,-110.46C1415.02,-107.52 1425.31,-104.46 1435,-101.5 1444.37,-98.64 1454.5,-95.42 1463.81,-92.42\"/>\n<polygon fill=\"black\" stroke=\"black\" points=\"1465.07,-95.69 1473.5,-89.27 1462.91,-89.03 1465.07,-95.69\"/>\n</g>\n<!-- 139636306043728&#45;&gt;139636306042720/ -->\n<g id=\"edge14\" class=\"edge\">\n<title>139636306043728&#45;&gt;139636306042720/</title>\n<path fill=\"none\" stroke=\"black\" d=\"M1433.62,-125.11C1516.45,-121.85 1641.42,-116.4 1750,-109.5 1758.43,-108.96 1767.49,-108.29 1776.02,-107.61\"/>\n<polygon fill=\"black\" stroke=\"black\" points=\"1776.39,-111.09 1786.07,-106.79 1775.82,-104.11 1776.39,-111.09\"/>\n</g>\n<!-- 139636306043728exp&#45;&gt;139636306043728 -->\n<g id=\"edge6\" class=\"edge\">\n<title>139636306043728exp&#45;&gt;139636306043728</title>\n<path fill=\"none\" stroke=\"black\" d=\"M1210.03,-128.5C1218,-128.5 1227.31,-128.5 1237.2,-128.5\"/>\n<polygon fill=\"black\" stroke=\"black\" points=\"1237.27,-132 1247.27,-128.5 1237.27,-125 1237.27,-132\"/>\n</g>\n<!-- 139636306042720 -->\n<g id=\"node18\" class=\"node\">\n<title>139636306042720</title>\n<polygon fill=\"none\" stroke=\"black\" points=\"1876,-86.5 1876,-122.5 2062,-122.5 2062,-86.5 1876,-86.5\"/>\n<text text-anchor=\"middle\" x=\"1886\" y=\"-100.8\" font-family=\"Times,serif\" font-size=\"14.00\"> </text>\n<polyline fill=\"none\" stroke=\"black\" points=\"1896,-86.5 1896,-122.5 \"/>\n<text text-anchor=\"middle\" x=\"1936\" y=\"-100.8\" font-family=\"Times,serif\" font-size=\"14.00\">data 0.1135</text>\n<polyline fill=\"none\" stroke=\"black\" points=\"1976,-86.5 1976,-122.5 \"/>\n<text text-anchor=\"middle\" x=\"2019\" y=\"-100.8\" font-family=\"Times,serif\" font-size=\"14.00\">grad &#45;8.8067</text>\n</g>\n<!-- 139636306042720&#45;&gt;139636306045456log -->\n<g id=\"edge20\" class=\"edge\">\n<title>139636306042720&#45;&gt;139636306045456log</title>\n<path fill=\"none\" stroke=\"black\" d=\"M2062.25,-104.5C2071.15,-104.5 2079.76,-104.5 2087.59,-104.5\"/>\n<polygon fill=\"black\" stroke=\"black\" points=\"2087.73,-108 2097.73,-104.5 2087.73,-101 2087.73,-108\"/>\n</g>\n<!-- 139636306042720/&#45;&gt;139636306042720 -->\n<g id=\"edge7\" class=\"edge\">\n<title>139636306042720/&#45;&gt;139636306042720</title>\n<path fill=\"none\" stroke=\"black\" d=\"M1840.12,-104.5C1847.62,-104.5 1856.29,-104.5 1865.5,-104.5\"/>\n<polygon fill=\"black\" stroke=\"black\" points=\"1865.69,-108 1875.69,-104.5 1865.69,-101 1865.69,-108\"/>\n</g>\n<!-- 139636306044256 -->\n<g id=\"node20\" class=\"node\">\n<title>139636306044256</title>\n<polygon fill=\"none\" stroke=\"black\" points=\"1246,-55.5 1246,-91.5 1435,-91.5 1435,-55.5 1246,-55.5\"/>\n<text text-anchor=\"middle\" x=\"1256\" y=\"-69.8\" font-family=\"Times,serif\" font-size=\"14.00\"> </text>\n<polyline fill=\"none\" stroke=\"black\" points=\"1266,-55.5 1266,-91.5 \"/>\n<text text-anchor=\"middle\" x=\"1309.5\" y=\"-69.8\" font-family=\"Times,serif\" font-size=\"14.00\">data 21.2209</text>\n<polyline fill=\"none\" stroke=\"black\" points=\"1353,-55.5 1353,-91.5 \"/>\n<text text-anchor=\"middle\" x=\"1394\" y=\"-69.8\" font-family=\"Times,serif\" font-size=\"14.00\">grad 0.0418</text>\n</g>\n<!-- 139636306044256&#45;&gt;139636306045120+ -->\n<g id=\"edge17\" class=\"edge\">\n<title>139636306044256&#45;&gt;139636306045120+</title>\n<path fill=\"none\" stroke=\"black\" d=\"M1435.1,-78.32C1444.12,-78.78 1452.84,-79.23 1460.75,-79.64\"/>\n<polygon fill=\"black\" stroke=\"black\" points=\"1460.83,-83.14 1470.99,-80.16 1461.19,-76.15 1460.83,-83.14\"/>\n</g>\n<!-- 139636306044256+&#45;&gt;139636306044256 -->\n<g id=\"edge8\" class=\"edge\">\n<title>139636306044256+&#45;&gt;139636306044256</title>\n<path fill=\"none\" stroke=\"black\" d=\"M1210.03,-73.5C1217.66,-73.5 1226.52,-73.5 1235.94,-73.5\"/>\n<polygon fill=\"black\" stroke=\"black\" points=\"1235.94,-77 1245.94,-73.5 1235.94,-70 1235.94,-77\"/>\n</g>\n<!-- 139636306043344 -->\n<g id=\"node22\" class=\"node\">\n<title>139636306043344</title>\n<polygon fill=\"none\" stroke=\"black\" points=\"619.5,-110.5 619.5,-146.5 801.5,-146.5 801.5,-110.5 619.5,-110.5\"/>\n<text text-anchor=\"middle\" x=\"629.5\" y=\"-124.8\" font-family=\"Times,serif\" font-size=\"14.00\"> </text>\n<polyline fill=\"none\" stroke=\"black\" points=\"639.5,-110.5 639.5,-146.5 \"/>\n<text text-anchor=\"middle\" x=\"679.5\" y=\"-124.8\" font-family=\"Times,serif\" font-size=\"14.00\">data 1.0000</text>\n<polyline fill=\"none\" stroke=\"black\" points=\"719.5,-110.5 719.5,-146.5 \"/>\n<text text-anchor=\"middle\" x=\"760.5\" y=\"-124.8\" font-family=\"Times,serif\" font-size=\"14.00\">grad 0.0418</text>\n</g>\n<!-- 139636306043344&#45;&gt;139636306044112+ -->\n<g id=\"edge23\" class=\"edge\">\n<title>139636306043344&#45;&gt;139636306044112+</title>\n<path fill=\"none\" stroke=\"black\" d=\"M778.28,-110.48C787.33,-107.67 796.44,-104.65 805,-101.5 815.5,-97.64 826.72,-92.8 836.69,-88.24\"/>\n<polygon fill=\"black\" stroke=\"black\" points=\"838.21,-91.39 845.79,-83.99 835.25,-85.04 838.21,-91.39\"/>\n</g>\n<!-- 139636306043344+&#45;&gt;139636306043344 -->\n<g id=\"edge9\" class=\"edge\">\n<title>139636306043344+&#45;&gt;139636306043344</title>\n<path fill=\"none\" stroke=\"black\" d=\"M580.03,-128.5C588.48,-128.5 598.42,-128.5 608.98,-128.5\"/>\n<polygon fill=\"black\" stroke=\"black\" points=\"609.27,-132 619.27,-128.5 609.27,-125 609.27,-132\"/>\n</g>\n<!-- 139636306039264 -->\n<g id=\"node24\" class=\"node\">\n<title>139636306039264</title>\n<polygon fill=\"none\" stroke=\"black\" points=\"616,-55.5 616,-91.5 805,-91.5 805,-55.5 616,-55.5\"/>\n<text text-anchor=\"middle\" x=\"626\" y=\"-69.8\" font-family=\"Times,serif\" font-size=\"14.00\"> </text>\n<polyline fill=\"none\" stroke=\"black\" points=\"636,-55.5 636,-91.5 \"/>\n<text text-anchor=\"middle\" x=\"679.5\" y=\"-69.8\" font-family=\"Times,serif\" font-size=\"14.00\">data 20.0855</text>\n<polyline fill=\"none\" stroke=\"black\" points=\"723,-55.5 723,-91.5 \"/>\n<text text-anchor=\"middle\" x=\"764\" y=\"-69.8\" font-family=\"Times,serif\" font-size=\"14.00\">grad 0.0418</text>\n</g>\n<!-- 139636306039264&#45;&gt;139636306044112+ -->\n<g id=\"edge27\" class=\"edge\">\n<title>139636306039264&#45;&gt;139636306044112+</title>\n<path fill=\"none\" stroke=\"black\" d=\"M805.1,-73.5C814.12,-73.5 822.84,-73.5 830.75,-73.5\"/>\n<polygon fill=\"black\" stroke=\"black\" points=\"830.99,-77 840.99,-73.5 830.99,-70 830.99,-77\"/>\n</g>\n<!-- 139636306039264exp&#45;&gt;139636306039264 -->\n<g id=\"edge10\" class=\"edge\">\n<title>139636306039264exp&#45;&gt;139636306039264</title>\n<path fill=\"none\" stroke=\"black\" d=\"M580.03,-73.5C587.66,-73.5 596.52,-73.5 605.94,-73.5\"/>\n<polygon fill=\"black\" stroke=\"black\" points=\"605.94,-77 615.94,-73.5 605.94,-70 605.94,-77\"/>\n</g>\n<!-- 139636306039792 -->\n<g id=\"node26\" class=\"node\">\n<title>139636306039792</title>\n<polygon fill=\"none\" stroke=\"black\" points=\"934.5,-0.5 934.5,-36.5 1116.5,-36.5 1116.5,-0.5 934.5,-0.5\"/>\n<text text-anchor=\"middle\" x=\"944.5\" y=\"-14.8\" font-family=\"Times,serif\" font-size=\"14.00\"> </text>\n<polyline fill=\"none\" stroke=\"black\" points=\"954.5,-0.5 954.5,-36.5 \"/>\n<text text-anchor=\"middle\" x=\"994.5\" y=\"-14.8\" font-family=\"Times,serif\" font-size=\"14.00\">data 0.1353</text>\n<polyline fill=\"none\" stroke=\"black\" points=\"1034.5,-0.5 1034.5,-36.5 \"/>\n<text text-anchor=\"middle\" x=\"1075.5\" y=\"-14.8\" font-family=\"Times,serif\" font-size=\"14.00\">grad 0.0418</text>\n</g>\n<!-- 139636306039792&#45;&gt;139636306044256+ -->\n<g id=\"edge16\" class=\"edge\">\n<title>139636306039792&#45;&gt;139636306044256+</title>\n<path fill=\"none\" stroke=\"black\" d=\"M1093.28,-36.52C1102.33,-39.33 1111.44,-42.35 1120,-45.5 1130.5,-49.36 1141.72,-54.2 1151.69,-58.76\"/>\n<polygon fill=\"black\" stroke=\"black\" points=\"1150.25,-61.96 1160.79,-63.01 1153.21,-55.61 1150.25,-61.96\"/>\n</g>\n<!-- 139636306039792exp&#45;&gt;139636306039792 -->\n<g id=\"edge11\" class=\"edge\">\n<title>139636306039792exp&#45;&gt;139636306039792</title>\n<path fill=\"none\" stroke=\"black\" d=\"M895.03,-18.5C903.48,-18.5 913.42,-18.5 923.98,-18.5\"/>\n<polygon fill=\"black\" stroke=\"black\" points=\"924.27,-22 934.27,-18.5 924.27,-15 924.27,-22\"/>\n</g>\n</g>\n</svg>\n",
            "text/plain": [
              "<graphviz.graphs.Digraph at 0x7eff9c6b5030>"
            ]
          },
          "metadata": {},
          "execution_count": 8
        }
      ]
    },
    {
      "cell_type": "code",
      "source": [
        "# verify the gradient using the torch library\n",
        "# torch should give you the exact same gradient\n",
        "import torch\n",
        "import torch.nn.functional as F\n",
        "\n",
        "# Inputs\n",
        "inputs = torch.tensor([0.0, 3.0, -2.0, 1.0], requires_grad=True)\n",
        "\n",
        "# Softmax\n",
        "softmax_output = F.softmax(inputs, dim=0)\n",
        "\n",
        "# Select the final index\n",
        "final_output = -softmax_output.log()[-1]\n",
        "\n",
        "# Compute the gradients easily :))\n",
        "final_output.backward()\n",
        "\n",
        "print(\"Inputs:\", inputs)\n",
        "print(\"Pytorch Softmax Output:\", softmax_output)\n",
        "print(\"Pytorch Loss Output:\", final_output)\n",
        "print(\"Pytorch Gradients:\", inputs.grad)\n",
        "\n",
        "print(\"\\n\",  \"****\" * 10, '\\n')\n",
        "\n",
        "grads = [logit.grad for logit in logits]\n",
        "print(\"Inputs:\", logits)\n",
        "print(\"My Code Softmax Output:\", probs)\n",
        "print(\"My Code Loss Output:\", loss)\n",
        "print(\"My Code Gradients:\", grads)\n",
        "\n",
        "\n"
      ],
      "metadata": {
        "id": "q7ca1SVAGG1S",
        "colab": {
          "base_uri": "https://localhost:8080/"
        },
        "outputId": "bfe51728-5ecc-4ba3-cd38-0a04c86472c0"
      },
      "execution_count": 9,
      "outputs": [
        {
          "output_type": "stream",
          "name": "stdout",
          "text": [
            "Inputs: tensor([ 0.,  3., -2.,  1.], requires_grad=True)\n",
            "Pytorch Softmax Output: tensor([0.0418, 0.8390, 0.0057, 0.1135], grad_fn=<SoftmaxBackward0>)\n",
            "Pytorch Loss Output: tensor(2.1755, grad_fn=<NegBackward0>)\n",
            "Pytorch Gradients: tensor([ 0.0418,  0.8390,  0.0057, -0.8865])\n",
            "\n",
            " **************************************** \n",
            "\n",
            "Inputs: [Value(data=0.0), Value(data=3.0), Value(data=-2.0), Value(data=1.0)]\n",
            "My Code Softmax Output: [Value(data=0.04177257051535045), Value(data=0.839024507462532), Value(data=0.005653302662216329), Value(data=0.11354961935990121)]\n",
            "My Code Loss Output: Value(data=2.1755153626167147)\n",
            "My Code Gradients: [0.041772570515350445, 0.8390245074625319, 0.005653302662216329, -0.886450380640099]\n"
          ]
        }
      ]
    },
    {
      "cell_type": "code",
      "source": [],
      "metadata": {
        "id": "KETWB9sQT_2D"
      },
      "execution_count": null,
      "outputs": []
    }
  ]
}